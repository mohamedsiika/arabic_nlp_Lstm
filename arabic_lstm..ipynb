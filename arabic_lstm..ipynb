{
 "cells": [
  {
   "cell_type": "code",
   "execution_count": 13,
   "id": "194c7cc3",
   "metadata": {},
   "outputs": [
    {
     "name": "stdout",
     "output_type": "stream",
     "text": [
      "Collecting nltk\n",
      "  Downloading nltk-3.7-py3-none-any.whl (1.5 MB)\n",
      "Collecting click\n",
      "  Downloading click-8.1.3-py3-none-any.whl (96 kB)\n",
      "Collecting tqdm\n",
      "  Downloading tqdm-4.64.0-py2.py3-none-any.whl (78 kB)\n",
      "Collecting regex>=2021.8.3\n",
      "  Downloading regex-2022.4.24-cp38-cp38-win_amd64.whl (262 kB)\n",
      "Requirement already satisfied: joblib in c:\\users\\sika\\.conda\\envs\\arabic_lstm\\lib\\site-packages (from nltk) (1.1.0)\n",
      "Requirement already satisfied: colorama in c:\\users\\sika\\.conda\\envs\\arabic_lstm\\lib\\site-packages (from click->nltk) (0.4.4)\n",
      "Installing collected packages: tqdm, regex, click, nltk\n",
      "Successfully installed click-8.1.3 nltk-3.7 regex-2022.4.24 tqdm-4.64.0\n"
     ]
    }
   ],
   "source": [
    "!pip install nltk"
   ]
  },
  {
   "cell_type": "code",
   "execution_count": 14,
   "id": "813b0912",
   "metadata": {},
   "outputs": [],
   "source": [
    "import os\n",
    "import re\n",
    "import numpy as np\n",
    "import pandas as pd\n",
    "from sklearn.model_selection import train_test_split\n",
    "\n",
    "from nltk.corpus import stopwords\n",
    "from nltk.tokenize import word_tokenize\n",
    "import string\n",
    "\n",
    "from sklearn.preprocessing import LabelEncoder\n",
    "\n",
    "from keras.preprocessing.text import Tokenizer\n",
    "from keras.preprocessing.sequence import pad_sequences\n",
    "import gensim\n",
    "from gensim.models import KeyedVectors\n",
    "from gensim.models import word2vec\n",
    "\n",
    "from tensorflow.keras.models import Sequential \n",
    "from tensorflow.keras.layers import Dense, LSTM, Embedding,Bidirectional\n",
    "import tensorflow as tf\n",
    "from tensorflow.compat.v1.keras.layers import CuDNNLSTM\n",
    "from tensorflow.keras.layers import Dropout\n",
    "from keras.callbacks import EarlyStopping, ModelCheckpoint\n",
    "\n",
    "from keras.preprocessing import text\n",
    "\n",
    "from sklearn import metrics"
   ]
  },
  {
   "cell_type": "code",
   "execution_count": 15,
   "id": "49c58096",
   "metadata": {},
   "outputs": [],
   "source": [
    "w2v_model=KeyedVectors.load('tweets_cbow_300')\n"
   ]
  },
  {
   "cell_type": "code",
   "execution_count": 16,
   "id": "09f90081",
   "metadata": {},
   "outputs": [
    {
     "data": {
      "text/html": [
       "<div>\n",
       "<style scoped>\n",
       "    .dataframe tbody tr th:only-of-type {\n",
       "        vertical-align: middle;\n",
       "    }\n",
       "\n",
       "    .dataframe tbody tr th {\n",
       "        vertical-align: top;\n",
       "    }\n",
       "\n",
       "    .dataframe thead th {\n",
       "        text-align: right;\n",
       "    }\n",
       "</style>\n",
       "<table border=\"1\" class=\"dataframe\">\n",
       "  <thead>\n",
       "    <tr style=\"text-align: right;\">\n",
       "      <th></th>\n",
       "      <th>Words</th>\n",
       "      <th>Labels</th>\n",
       "    </tr>\n",
       "  </thead>\n",
       "  <tbody>\n",
       "    <tr>\n",
       "      <th>0</th>\n",
       "      <td>الذرة</td>\n",
       "      <td>O</td>\n",
       "    </tr>\n",
       "    <tr>\n",
       "      <th>1</th>\n",
       "      <td>هي</td>\n",
       "      <td>O</td>\n",
       "    </tr>\n",
       "    <tr>\n",
       "      <th>2</th>\n",
       "      <td>أصغر</td>\n",
       "      <td>O</td>\n",
       "    </tr>\n",
       "    <tr>\n",
       "      <th>3</th>\n",
       "      <td>جزء</td>\n",
       "      <td>O</td>\n",
       "    </tr>\n",
       "    <tr>\n",
       "      <th>4</th>\n",
       "      <td>من</td>\n",
       "      <td>O</td>\n",
       "    </tr>\n",
       "    <tr>\n",
       "      <th>...</th>\n",
       "      <td>...</td>\n",
       "      <td>...</td>\n",
       "    </tr>\n",
       "    <tr>\n",
       "      <th>21908</th>\n",
       "      <td>BSD</td>\n",
       "      <td>I-MIS</td>\n",
       "    </tr>\n",
       "    <tr>\n",
       "      <th>21909</th>\n",
       "      <td>في</td>\n",
       "      <td>O</td>\n",
       "    </tr>\n",
       "    <tr>\n",
       "      <th>21910</th>\n",
       "      <td>طور</td>\n",
       "      <td>O</td>\n",
       "    </tr>\n",
       "    <tr>\n",
       "      <th>21911</th>\n",
       "      <td>التصميم</td>\n",
       "      <td>O</td>\n",
       "    </tr>\n",
       "    <tr>\n",
       "      <th>21912</th>\n",
       "      <td>.</td>\n",
       "      <td>O</td>\n",
       "    </tr>\n",
       "  </tbody>\n",
       "</table>\n",
       "<p>21147 rows × 2 columns</p>\n",
       "</div>"
      ],
      "text/plain": [
       "         Words Labels\n",
       "0        الذرة      O\n",
       "1           هي      O\n",
       "2         أصغر      O\n",
       "3          جزء      O\n",
       "4           من      O\n",
       "...        ...    ...\n",
       "21908      BSD  I-MIS\n",
       "21909       في      O\n",
       "21910      طور      O\n",
       "21911  التصميم      O\n",
       "21912        .      O\n",
       "\n",
       "[21147 rows x 2 columns]"
      ]
     },
     "execution_count": 16,
     "metadata": {},
     "output_type": "execute_result"
    }
   ],
   "source": [
    "all_data = pd.read_csv('all.dev.features.csv')\n",
    "all_data = all_data.dropna()\n",
    "words = all_data['Column1']\n",
    "labels = all_data['Column37']\n",
    "\n",
    "d = {'Words': words, 'Labels': labels}\n",
    "\n",
    "df = pd.DataFrame(data=d)\n",
    "df = df.dropna()\n",
    "df"
   ]
  },
  {
   "cell_type": "code",
   "execution_count": 8,
   "id": "1197257b",
   "metadata": {},
   "outputs": [
    {
     "data": {
      "text/plain": [
       "'!\"#$%&\\'()*+,-./:;<=>?@[\\\\]^_`{|}~'"
      ]
     },
     "execution_count": 8,
     "metadata": {},
     "output_type": "execute_result"
    }
   ],
   "source": [
    "string.punctuation"
   ]
  },
  {
   "cell_type": "code",
   "execution_count": 18,
   "id": "18f5acae",
   "metadata": {},
   "outputs": [
    {
     "data": {
      "text/html": [
       "<div>\n",
       "<style scoped>\n",
       "    .dataframe tbody tr th:only-of-type {\n",
       "        vertical-align: middle;\n",
       "    }\n",
       "\n",
       "    .dataframe tbody tr th {\n",
       "        vertical-align: top;\n",
       "    }\n",
       "\n",
       "    .dataframe thead th {\n",
       "        text-align: right;\n",
       "    }\n",
       "</style>\n",
       "<table border=\"1\" class=\"dataframe\">\n",
       "  <thead>\n",
       "    <tr style=\"text-align: right;\">\n",
       "      <th></th>\n",
       "      <th>Words</th>\n",
       "      <th>Labels</th>\n",
       "    </tr>\n",
       "  </thead>\n",
       "  <tbody>\n",
       "    <tr>\n",
       "      <th>0</th>\n",
       "      <td>الذرة</td>\n",
       "      <td>O</td>\n",
       "    </tr>\n",
       "    <tr>\n",
       "      <th>1</th>\n",
       "      <td>هي</td>\n",
       "      <td>O</td>\n",
       "    </tr>\n",
       "    <tr>\n",
       "      <th>2</th>\n",
       "      <td>أصغر</td>\n",
       "      <td>O</td>\n",
       "    </tr>\n",
       "    <tr>\n",
       "      <th>3</th>\n",
       "      <td>جزء</td>\n",
       "      <td>O</td>\n",
       "    </tr>\n",
       "    <tr>\n",
       "      <th>4</th>\n",
       "      <td>من</td>\n",
       "      <td>O</td>\n",
       "    </tr>\n",
       "    <tr>\n",
       "      <th>...</th>\n",
       "      <td>...</td>\n",
       "      <td>...</td>\n",
       "    </tr>\n",
       "    <tr>\n",
       "      <th>21906</th>\n",
       "      <td>GNU</td>\n",
       "      <td>I-MIS</td>\n",
       "    </tr>\n",
       "    <tr>\n",
       "      <th>21908</th>\n",
       "      <td>BSD</td>\n",
       "      <td>I-MIS</td>\n",
       "    </tr>\n",
       "    <tr>\n",
       "      <th>21909</th>\n",
       "      <td>في</td>\n",
       "      <td>O</td>\n",
       "    </tr>\n",
       "    <tr>\n",
       "      <th>21910</th>\n",
       "      <td>طور</td>\n",
       "      <td>O</td>\n",
       "    </tr>\n",
       "    <tr>\n",
       "      <th>21911</th>\n",
       "      <td>التصميم</td>\n",
       "      <td>O</td>\n",
       "    </tr>\n",
       "  </tbody>\n",
       "</table>\n",
       "<p>19425 rows × 2 columns</p>\n",
       "</div>"
      ],
      "text/plain": [
       "         Words Labels\n",
       "0        الذرة      O\n",
       "1           هي      O\n",
       "2         أصغر      O\n",
       "3          جزء      O\n",
       "4           من      O\n",
       "...        ...    ...\n",
       "21906      GNU  I-MIS\n",
       "21908      BSD  I-MIS\n",
       "21909       في      O\n",
       "21910      طور      O\n",
       "21911  التصميم      O\n",
       "\n",
       "[19425 rows x 2 columns]"
      ]
     },
     "execution_count": 18,
     "metadata": {},
     "output_type": "execute_result"
    }
   ],
   "source": [
    "punctuations = '''`÷×؛<>_()*&^%][ـ،/:\"؟.,'{}~¦+|!”…“–ـ؟''' + string.punctuation\n",
    "for i in range(len(punctuations)):\n",
    "    df.drop((df.loc[df['Words'] == punctuations[i], ['Words', 'Labels']].index), axis=0, inplace=True)\n",
    "    \n",
    "numbers = [0, 1, 2, 3, 4, 5, 6, 7, 8, 9]\n",
    "for i in range(len(numbers)):\n",
    "    df.drop((df.loc[df['Words'] == numbers[i], ['Words', 'Labels']].index), axis=0, inplace=True)\n",
    "\n",
    "\n",
    "df"
   ]
  },
  {
   "cell_type": "code",
   "execution_count": 19,
   "id": "5b2ec8b0",
   "metadata": {},
   "outputs": [
    {
     "data": {
      "text/html": [
       "<div>\n",
       "<style scoped>\n",
       "    .dataframe tbody tr th:only-of-type {\n",
       "        vertical-align: middle;\n",
       "    }\n",
       "\n",
       "    .dataframe tbody tr th {\n",
       "        vertical-align: top;\n",
       "    }\n",
       "\n",
       "    .dataframe thead th {\n",
       "        text-align: right;\n",
       "    }\n",
       "</style>\n",
       "<table border=\"1\" class=\"dataframe\">\n",
       "  <thead>\n",
       "    <tr style=\"text-align: right;\">\n",
       "      <th></th>\n",
       "      <th>Words</th>\n",
       "      <th>Labels</th>\n",
       "    </tr>\n",
       "  </thead>\n",
       "  <tbody>\n",
       "    <tr>\n",
       "      <th>1</th>\n",
       "      <td>هي</td>\n",
       "      <td>O</td>\n",
       "    </tr>\n",
       "    <tr>\n",
       "      <th>3</th>\n",
       "      <td>جزء</td>\n",
       "      <td>O</td>\n",
       "    </tr>\n",
       "    <tr>\n",
       "      <th>4</th>\n",
       "      <td>من</td>\n",
       "      <td>O</td>\n",
       "    </tr>\n",
       "    <tr>\n",
       "      <th>5</th>\n",
       "      <td>العنصر</td>\n",
       "      <td>O</td>\n",
       "    </tr>\n",
       "    <tr>\n",
       "      <th>6</th>\n",
       "      <td>الكيميائي</td>\n",
       "      <td>O</td>\n",
       "    </tr>\n",
       "    <tr>\n",
       "      <th>...</th>\n",
       "      <td>...</td>\n",
       "      <td>...</td>\n",
       "    </tr>\n",
       "    <tr>\n",
       "      <th>21903</th>\n",
       "      <td>تشغيل</td>\n",
       "      <td>I-MIS</td>\n",
       "    </tr>\n",
       "    <tr>\n",
       "      <th>21904</th>\n",
       "      <td>باسم</td>\n",
       "      <td>O</td>\n",
       "    </tr>\n",
       "    <tr>\n",
       "      <th>21909</th>\n",
       "      <td>في</td>\n",
       "      <td>O</td>\n",
       "    </tr>\n",
       "    <tr>\n",
       "      <th>21910</th>\n",
       "      <td>طور</td>\n",
       "      <td>O</td>\n",
       "    </tr>\n",
       "    <tr>\n",
       "      <th>21911</th>\n",
       "      <td>التصميم</td>\n",
       "      <td>O</td>\n",
       "    </tr>\n",
       "  </tbody>\n",
       "</table>\n",
       "<p>11896 rows × 2 columns</p>\n",
       "</div>"
      ],
      "text/plain": [
       "           Words Labels\n",
       "1             هي      O\n",
       "3            جزء      O\n",
       "4             من      O\n",
       "5         العنصر      O\n",
       "6      الكيميائي      O\n",
       "...          ...    ...\n",
       "21903      تشغيل  I-MIS\n",
       "21904       باسم      O\n",
       "21909         في      O\n",
       "21910        طور      O\n",
       "21911    التصميم      O\n",
       "\n",
       "[11896 rows x 2 columns]"
      ]
     },
     "execution_count": 19,
     "metadata": {},
     "output_type": "execute_result"
    }
   ],
   "source": [
    "for word in df['Words']:\n",
    "    if word in w2v_model.wv.vocab:\n",
    "        continue\n",
    "    \n",
    "    else:\n",
    "        df.drop((df.loc[df['Words'] == word ,['Words' ,'Labels']].index),axis=0,inplace=True)\n",
    "\n",
    "df"
   ]
  },
  {
   "cell_type": "code",
   "execution_count": 20,
   "id": "f1c4da4b",
   "metadata": {},
   "outputs": [
    {
     "data": {
      "text/plain": [
       "(9, array([8, 8, 8, ..., 8, 8, 8]))"
      ]
     },
     "execution_count": 20,
     "metadata": {},
     "output_type": "execute_result"
    }
   ],
   "source": [
    "label_encoder = LabelEncoder()\n",
    "encoded_labels = label_encoder.fit_transform(df['Labels'])\n",
    "len(np.unique(encoded_labels)), encoded_labels"
   ]
  },
  {
   "cell_type": "code",
   "execution_count": 21,
   "id": "60242573",
   "metadata": {},
   "outputs": [
    {
     "data": {
      "text/plain": [
       "((11896, 9), array([0., 0., 0., 0., 0., 0., 0., 0., 1.], dtype=float32))"
      ]
     },
     "execution_count": 21,
     "metadata": {},
     "output_type": "execute_result"
    }
   ],
   "source": [
    "y = tf.keras.utils.to_categorical(encoded_labels)\n",
    "\n",
    "y.shape, y[0]"
   ]
  },
  {
   "cell_type": "code",
   "execution_count": 22,
   "id": "cb33435f",
   "metadata": {},
   "outputs": [
    {
     "data": {
      "text/plain": [
       "array(['هي', 'جزء', 'من', ..., 'في', 'طور', 'التصميم'], dtype=object)"
      ]
     },
     "execution_count": 22,
     "metadata": {},
     "output_type": "execute_result"
    }
   ],
   "source": [
    "x = np.array(df['Words'])\n",
    "x"
   ]
  },
  {
   "cell_type": "code",
   "execution_count": 29,
   "id": "61cbb998",
   "metadata": {},
   "outputs": [
    {
     "data": {
      "text/plain": [
       "(2974, 2974, 4, (2974, 4, 9))"
      ]
     },
     "execution_count": 29,
     "metadata": {},
     "output_type": "execute_result"
    }
   ],
   "source": [
    "temp_sentences = []\n",
    "temp_labels_sentences = []\n",
    "temp = []\n",
    "\n",
    "k=0\n",
    "i=0\n",
    "while(i < len(x)):\n",
    "    sentence = \"\"\n",
    "    for j in range(4):\n",
    "        sentence += x[k]+' '\n",
    "        temp.append(y[k])\n",
    "        k+=1\n",
    "        \n",
    "    \n",
    "    sentence = sentence.split(\" \")\n",
    "    sentence.pop()\n",
    "    temp_sentences.append(sentence)\n",
    "    temp_labels_sentences.append(temp)\n",
    "    temp = []\n",
    "    \n",
    "    i+=4\n",
    "\n",
    "labels_model=np.array(temp_labels_sentences)     \n",
    "len(temp_sentences), len(temp_labels_sentences), len(temp_labels_sentences[0]), labels_model.shape"
   ]
  },
  {
   "cell_type": "code",
   "execution_count": 30,
   "id": "3c57d583",
   "metadata": {},
   "outputs": [
    {
     "data": {
      "text/plain": [
       "array([[[0., 0., 0., ..., 0., 0., 1.],\n",
       "        [0., 0., 0., ..., 0., 0., 1.],\n",
       "        [0., 0., 0., ..., 0., 0., 1.],\n",
       "        [0., 0., 0., ..., 0., 0., 1.]],\n",
       "\n",
       "       [[0., 0., 0., ..., 0., 0., 1.],\n",
       "        [0., 0., 0., ..., 0., 0., 1.],\n",
       "        [0., 0., 0., ..., 0., 0., 1.],\n",
       "        [0., 0., 0., ..., 0., 0., 1.]],\n",
       "\n",
       "       [[0., 0., 0., ..., 0., 0., 1.],\n",
       "        [0., 0., 0., ..., 0., 0., 1.],\n",
       "        [0., 0., 0., ..., 0., 0., 1.],\n",
       "        [0., 0., 0., ..., 0., 0., 1.]],\n",
       "\n",
       "       ...,\n",
       "\n",
       "       [[0., 0., 0., ..., 0., 0., 1.],\n",
       "        [0., 0., 0., ..., 0., 0., 1.],\n",
       "        [0., 0., 0., ..., 0., 0., 1.],\n",
       "        [0., 0., 0., ..., 0., 0., 1.]],\n",
       "\n",
       "       [[0., 0., 0., ..., 0., 0., 1.],\n",
       "        [0., 0., 0., ..., 0., 0., 1.],\n",
       "        [0., 1., 0., ..., 0., 0., 0.],\n",
       "        [0., 0., 0., ..., 0., 0., 0.]],\n",
       "\n",
       "       [[0., 0., 0., ..., 0., 0., 1.],\n",
       "        [0., 0., 0., ..., 0., 0., 1.],\n",
       "        [0., 0., 0., ..., 0., 0., 1.],\n",
       "        [0., 0., 0., ..., 0., 0., 1.]]], dtype=float32)"
      ]
     },
     "execution_count": 30,
     "metadata": {},
     "output_type": "execute_result"
    }
   ],
   "source": [
    "        \n",
    "labels_model"
   ]
  },
  {
   "cell_type": "code",
   "execution_count": 31,
   "id": "9f19a90b",
   "metadata": {},
   "outputs": [],
   "source": [
    "num_words = 11896\n",
    "tokenizer=Tokenizer(num_words, lower=True)\n",
    "tokenizer.fit_on_texts(df['Words'])"
   ]
  },
  {
   "cell_type": "code",
   "execution_count": 32,
   "id": "be6f95c3",
   "metadata": {},
   "outputs": [
    {
     "data": {
      "text/plain": [
       "array([[  32,  256,    2,  165],\n",
       "       [ 409,   10, 1354,  257],\n",
       "       [ 165,  410, 1355,  116],\n",
       "       ...,\n",
       "       [3792,  202, 3793,  462],\n",
       "       [3794, 3795,    8,   29],\n",
       "       [  83,    1, 1353,  405]])"
      ]
     },
     "execution_count": 32,
     "metadata": {},
     "output_type": "execute_result"
    }
   ],
   "source": [
    "tokens=tokenizer.texts_to_sequences(temp_sentences)\n",
    "tokens_pad=pad_sequences(tokens,maxlen=4,padding='post')\n",
    "tokens_pad"
   ]
  },
  {
   "cell_type": "code",
   "execution_count": 33,
   "id": "0d98f50d",
   "metadata": {},
   "outputs": [
    {
     "data": {
      "text/plain": [
       "(11896, 300)"
      ]
     },
     "execution_count": 33,
     "metadata": {},
     "output_type": "execute_result"
    }
   ],
   "source": [
    "vector_size = 300\n",
    "gensim_weight_matrix = np.zeros((num_words ,vector_size))\n",
    "gensim_weight_matrix.shape"
   ]
  },
  {
   "cell_type": "code",
   "execution_count": 34,
   "id": "f10db1e1",
   "metadata": {},
   "outputs": [
    {
     "name": "stderr",
     "output_type": "stream",
     "text": [
      "C:\\Users\\sika\\AppData\\Local\\Temp\\ipykernel_24620\\1213969340.py:4: DeprecationWarning: Call to deprecated `__getitem__` (Method will be removed in 4.0.0, use self.wv.__getitem__() instead).\n",
      "  gensim_weight_matrix[index] = w2v_model[word]\n"
     ]
    }
   ],
   "source": [
    "for word, index in tokenizer.word_index.items():\n",
    "    if index < num_words: # since index starts with zero \n",
    "        if word in w2v_model.wv.vocab:\n",
    "            gensim_weight_matrix[index] = w2v_model[word]\n",
    "        else:\n",
    "            gensim_weight_matrix[index] = np.zeros(300)"
   ]
  },
  {
   "cell_type": "code",
   "execution_count": 89,
   "id": "14ded50f",
   "metadata": {},
   "outputs": [
    {
     "data": {
      "text/plain": [
       "((2676, 4), (2676, 4, 9))"
      ]
     },
     "execution_count": 89,
     "metadata": {},
     "output_type": "execute_result"
    }
   ],
   "source": [
    "x_train,x_test,y_train,y_test=train_test_split(tokens_pad,labels_model,test_size=0.1,shuffle='true')\n",
    "\n",
    "x_train.shape, y_train.shape"
   ]
  },
  {
   "cell_type": "code",
   "execution_count": 90,
   "id": "7e3b1102",
   "metadata": {},
   "outputs": [],
   "source": [
    "encoder_input_layer = tf.keras.layers.Input(shape=(4, ))\n",
    "embedding_layer=tf.keras.layers.Embedding(input_dim = num_words, output_dim = 300,input_length= x_train.shape[1],weights = [gensim_weight_matrix],trainable = False)\n",
    "encoder_embedding = embedding_layer(encoder_input_layer)\n"
   ]
  },
  {
   "cell_type": "code",
   "execution_count": 98,
   "id": "eac5476a",
   "metadata": {},
   "outputs": [],
   "source": [
    "encoder_LSTM = LSTM(20,return_sequences=True)    \n",
    "encoder_outputs= encoder_LSTM(encoder_embedding)"
   ]
  },
  {
   "cell_type": "code",
   "execution_count": 99,
   "id": "217aa652",
   "metadata": {},
   "outputs": [],
   "source": [
    "decoder_LSTM = LSTM(20,  return_sequences=True)\n",
    "decoder_outputs = decoder_LSTM(encoder_outputs)"
   ]
  },
  {
   "cell_type": "code",
   "execution_count": 102,
   "id": "b9e5b4bf",
   "metadata": {},
   "outputs": [
    {
     "name": "stdout",
     "output_type": "stream",
     "text": [
      "Model: \"model_11\"\n",
      "_________________________________________________________________\n",
      " Layer (type)                Output Shape              Param #   \n",
      "=================================================================\n",
      " input_31 (InputLayer)       [(None, 4)]               0         \n",
      "                                                                 \n",
      " embedding_15 (Embedding)    (None, 4, 300)            3568800   \n",
      "                                                                 \n",
      " lstm_26 (LSTM)              (None, 4, 20)             25680     \n",
      "                                                                 \n",
      " lstm_27 (LSTM)              (None, 4, 20)             3280      \n",
      "                                                                 \n",
      " time_distributed_11 (TimeDi  (None, 4, 9)             189       \n",
      " stributed)                                                      \n",
      "                                                                 \n",
      "=================================================================\n",
      "Total params: 3,597,949\n",
      "Trainable params: 29,149\n",
      "Non-trainable params: 3,568,800\n",
      "_________________________________________________________________\n"
     ]
    }
   ],
   "source": [
    "\n",
    "outputs = tf.keras.layers.TimeDistributed(tf.keras.layers.Dense(9, activation='softmax'))(decoder_outputs)\n",
    "model = tf.keras.Model(encoder_input_layer, outputs)\n",
    "\n",
    "model.summary()"
   ]
  },
  {
   "cell_type": "code",
   "execution_count": 105,
   "id": "cdf4b0b2",
   "metadata": {},
   "outputs": [],
   "source": [
    "model.compile(loss = 'categorical_crossentropy', optimizer = 'adam',metrics = 'accuracy')"
   ]
  },
  {
   "cell_type": "code",
   "execution_count": 106,
   "id": "890ac34a",
   "metadata": {},
   "outputs": [
    {
     "name": "stdout",
     "output_type": "stream",
     "text": [
      "Epoch 1/25\n",
      "23/23 [==============================] - 12s 15ms/step - loss: 1.9214 - accuracy: 0.6830\n",
      "Epoch 2/25\n",
      "23/23 [==============================] - 0s 13ms/step - loss: 1.1932 - accuracy: 0.8664\n",
      "Epoch 3/25\n",
      "23/23 [==============================] - 0s 12ms/step - loss: 0.8372 - accuracy: 0.8672\n",
      "Epoch 4/25\n",
      "23/23 [==============================] - 0s 12ms/step - loss: 0.7313 - accuracy: 0.8672\n",
      "Epoch 5/25\n",
      "23/23 [==============================] - 0s 12ms/step - loss: 0.6477 - accuracy: 0.8682\n",
      "Epoch 6/25\n",
      "23/23 [==============================] - 0s 11ms/step - loss: 0.5772 - accuracy: 0.8690\n",
      "Epoch 7/25\n",
      "23/23 [==============================] - 0s 11ms/step - loss: 0.5213 - accuracy: 0.8682\n",
      "Epoch 8/25\n",
      "23/23 [==============================] - 0s 11ms/step - loss: 0.4800 - accuracy: 0.8686\n",
      "Epoch 9/25\n",
      "23/23 [==============================] - 0s 12ms/step - loss: 0.4506 - accuracy: 0.8691\n",
      "Epoch 10/25\n",
      "23/23 [==============================] - 0s 12ms/step - loss: 0.4273 - accuracy: 0.8702\n",
      "Epoch 11/25\n",
      "23/23 [==============================] - 0s 11ms/step - loss: 0.4085 - accuracy: 0.8709\n",
      "Epoch 12/25\n",
      "23/23 [==============================] - 0s 10ms/step - loss: 0.3918 - accuracy: 0.8732\n",
      "Epoch 13/25\n",
      "23/23 [==============================] - 0s 11ms/step - loss: 0.3761 - accuracy: 0.8785\n",
      "Epoch 14/25\n",
      "23/23 [==============================] - 0s 12ms/step - loss: 0.3612 - accuracy: 0.8850\n",
      "Epoch 15/25\n",
      "23/23 [==============================] - 0s 11ms/step - loss: 0.3455 - accuracy: 0.8968\n",
      "Epoch 16/25\n",
      "23/23 [==============================] - 0s 11ms/step - loss: 0.3297 - accuracy: 0.9041\n",
      "Epoch 17/25\n",
      "23/23 [==============================] - 0s 11ms/step - loss: 0.3136 - accuracy: 0.9098\n",
      "Epoch 18/25\n",
      "23/23 [==============================] - 0s 11ms/step - loss: 0.2981 - accuracy: 0.9160\n",
      "Epoch 19/25\n",
      "23/23 [==============================] - 0s 12ms/step - loss: 0.2833 - accuracy: 0.9207\n",
      "Epoch 20/25\n",
      "23/23 [==============================] - 0s 12ms/step - loss: 0.2699 - accuracy: 0.9240\n",
      "Epoch 21/25\n",
      "23/23 [==============================] - 0s 11ms/step - loss: 0.2572 - accuracy: 0.9277\n",
      "Epoch 22/25\n",
      "23/23 [==============================] - 0s 12ms/step - loss: 0.2453 - accuracy: 0.9321\n",
      "Epoch 23/25\n",
      "23/23 [==============================] - 0s 13ms/step - loss: 0.2349 - accuracy: 0.9354\n",
      "Epoch 24/25\n",
      "23/23 [==============================] - 0s 12ms/step - loss: 0.2243 - accuracy: 0.9376\n",
      "Epoch 25/25\n",
      "23/23 [==============================] - 0s 10ms/step - loss: 0.2147 - accuracy: 0.9396\n"
     ]
    }
   ],
   "source": [
    "history_embedding = model.fit(x_train, y_train, \n",
    "                                epochs = 25, batch_size = 120, \n",
    "                                verbose = 1 )"
   ]
  },
  {
   "cell_type": "code",
   "execution_count": 110,
   "id": "ea0418c3",
   "metadata": {},
   "outputs": [
    {
     "data": {
      "text/plain": [
       "((298, 4, 9), (298, 4, 9))"
      ]
     },
     "execution_count": 110,
     "metadata": {},
     "output_type": "execute_result"
    }
   ],
   "source": [
    "y_pred = model.predict(x_test)\n",
    "\n",
    "\n",
    "y_pred.shape,y_test.shape\n",
    "#print(metrics.classification_report(y_pred, y_true))"
   ]
  },
  {
   "cell_type": "code",
   "execution_count": 111,
   "id": "7f6a03c7",
   "metadata": {},
   "outputs": [
    {
     "data": {
      "text/plain": [
       "array([[9.69013257e-04, 1.85336161e-03, 3.28885915e-04, 9.25830565e-04,\n",
       "        2.91307573e-04, 1.02780829e-03, 3.11822456e-04, 1.93719217e-03,\n",
       "        9.92354751e-01],\n",
       "       [8.15874431e-03, 1.60508707e-01, 5.17567946e-03, 1.12374080e-02,\n",
       "        4.44295537e-03, 3.30830850e-02, 7.72425300e-03, 1.16853295e-02,\n",
       "        7.57983863e-01],\n",
       "       [2.15177672e-04, 1.43268437e-03, 7.04491176e-05, 2.31437851e-04,\n",
       "        5.75684680e-05, 4.80296876e-04, 8.35323590e-05, 4.91732033e-04,\n",
       "        9.96937156e-01],\n",
       "       [7.84542717e-05, 3.35533696e-04, 1.91190811e-05, 7.33543566e-05,\n",
       "        1.51407166e-05, 1.18149430e-04, 2.01056100e-05, 1.84154123e-04,\n",
       "        9.99155998e-01]], dtype=float32)"
      ]
     },
     "execution_count": 111,
     "metadata": {},
     "output_type": "execute_result"
    }
   ],
   "source": [
    "y_pred[0]"
   ]
  },
  {
   "cell_type": "code",
   "execution_count": null,
   "id": "a114b31f",
   "metadata": {},
   "outputs": [],
   "source": []
  }
 ],
 "metadata": {
  "kernelspec": {
   "display_name": "Python 3 (ipykernel)",
   "language": "python",
   "name": "python3"
  },
  "language_info": {
   "codemirror_mode": {
    "name": "ipython",
    "version": 3
   },
   "file_extension": ".py",
   "mimetype": "text/x-python",
   "name": "python",
   "nbconvert_exporter": "python",
   "pygments_lexer": "ipython3",
   "version": "3.8.13"
  }
 },
 "nbformat": 4,
 "nbformat_minor": 5
}
